{
 "cells": [
  {
   "attachments": {},
   "cell_type": "markdown",
   "metadata": {},
   "source": [
    "### Introduction\n",
    "The purpose of this code is to demonstrate how to define and use custom primitives in the Evolutionary Forest regression model.\n",
    "\n",
    "Evolutionary Forest is a machine learning algorithm that combines genetic programming with decision trees to create an ensemble model for regression tasks. It uses genetic programming to evolve a set of complex features, with each feature represented as a computer program. Each program contains primitives, which represent functions or operators that can be used to build complex features.\n",
    "\n",
    "By default, Evolutionary Forest comes with a set of built-in primitives, such as addition, subtraction, multiplication, and division. However, users can define their own custom primitives to build more complex features.\n",
    "\n",
    "The code first trains an instance of the Evolutionary Forest regression model using the default set of primitives. It then defines a new custom primitive, `Sin`, which computes the sine of a given value. The `custom_primitive` argument of the `EvolutionaryForestRegressor` constructor is used to pass a dictionary to specify custom primitives.\n",
    "\n",
    "To begin, we trained an instance of the Evolutionary Forest regression model using the default set of primitives. The experimental results show an $R^2$ score of 0.72."
   ]
  },
  {
   "cell_type": "code",
   "execution_count": 1,
   "metadata": {
    "collapsed": true
   },
   "outputs": [
    {
     "name": "stderr",
     "output_type": "stream",
     "text": [
      "IProgress not found. Please update jupyter and ipywidgets. See https://ipywidgets.readthedocs.io/en/stable/user_install.html\n"
     ]
    },
    {
     "name": "stdout",
     "output_type": "stream",
     "text": [
      "   \t      \t                                fitness                                 \t                      size                     \n",
      "   \t      \t------------------------------------------------------------------------\t-----------------------------------------------\n",
      "gen\tnevals\tavg      \tgen\tmax     \tmin      \tnevals\tstd     \tavg  \tgen\tmax\tmin\tnevals\tstd    \n",
      "0  \t200   \t-0.277553\t0  \t0.750226\t-0.634022\t200   \t0.233268\t43.98\t0  \t60 \t30 \t200   \t5.83435\n",
      "1  \t200   \t-0.358072\t1  \t0.425801\t-0.64822 \t200   \t0.185575\t44.19\t1  \t60 \t30 \t200   \t6.85448\n",
      "2  \t200   \t-0.396818\t2  \t0.14375 \t-0.680851\t200   \t0.159129\t44.27\t2  \t66 \t30 \t200   \t7.944  \n",
      "3  \t200   \t-0.407203\t3  \t0.551556\t-0.700657\t200   \t0.162068\t44.07\t3  \t60 \t30 \t200   \t7.15368\n",
      "4  \t200   \t-0.438888\t4  \t0.0888584\t-0.674901\t200   \t0.148646\t42.11\t4  \t60 \t30 \t200   \t6.10638\n",
      "5  \t200   \t-0.424578\t5  \t0.312934 \t-0.673571\t200   \t0.154473\t41.5 \t5  \t56 \t32 \t200   \t5.87112\n",
      "6  \t200   \t-0.442436\t6  \t0.358423 \t-0.673963\t200   \t0.138987\t41.76\t6  \t58 \t30 \t200   \t6.19212\n",
      "7  \t200   \t-0.449077\t7  \t0.0373424\t-0.697365\t200   \t0.12174 \t41.45\t7  \t56 \t32 \t200   \t6.35905\n",
      "8  \t200   \t-0.435611\t8  \t0.0159156\t-0.661346\t200   \t0.117411\t41.44\t8  \t58 \t32 \t200   \t6.07342\n",
      "9  \t200   \t-0.447061\t9  \t0.0880781\t-0.683018\t200   \t0.128284\t41.75\t9  \t58 \t32 \t200   \t6.39042\n",
      "10 \t200   \t-0.436292\t10 \t0.178266 \t-0.73255 \t200   \t0.152842\t41.68\t10 \t58 \t30 \t200   \t6.58009\n",
      "11 \t200   \t-0.458641\t11 \t0.244676 \t-0.710217\t200   \t0.143089\t42.25\t11 \t58 \t32 \t200   \t6.19011\n",
      "12 \t200   \t-0.459434\t12 \t0.0612428\t-0.704949\t200   \t0.129156\t42.14\t12 \t54 \t32 \t200   \t5.44246\n",
      "13 \t200   \t-0.471954\t13 \t-0.0487726\t-0.763746\t200   \t0.119209\t41.77\t13 \t54 \t32 \t200   \t5.28082\n",
      "14 \t200   \t-0.458506\t14 \t0.194844  \t-0.718021\t200   \t0.130316\t42.61\t14 \t58 \t30 \t200   \t5.01277\n",
      "15 \t200   \t-0.462007\t15 \t0.113706  \t-0.665167\t200   \t0.121166\t42.59\t15 \t58 \t30 \t200   \t4.84065\n",
      "16 \t200   \t-0.480424\t16 \t0.0786527 \t-0.723279\t200   \t0.132116\t42.6 \t16 \t58 \t32 \t200   \t5.0951 \n",
      "17 \t200   \t-0.476171\t17 \t-0.0136903\t-0.686679\t200   \t0.115372\t42.64\t17 \t58 \t32 \t200   \t5.55971\n",
      "18 \t200   \t-0.485259\t18 \t-0.104036 \t-0.73129 \t200   \t0.119791\t42.91\t18 \t58 \t32 \t200   \t5.52376\n",
      "19 \t200   \t-0.488752\t19 \t-0.0710119\t-0.700754\t200   \t0.111719\t42.65\t19 \t60 \t32 \t200   \t5.44771\n",
      "20 \t200   \t-0.485273\t20 \t0.193371  \t-0.741437\t200   \t0.128679\t43.16\t20 \t58 \t34 \t200   \t5.54747\n",
      "0.7279349221488238\n"
     ]
    }
   ],
   "source": [
    "import sys\n",
    "sys.path.insert(0, '../')\n",
    "\n",
    "import random\n",
    "import numpy as np\n",
    "from sklearn.datasets import make_friedman1\n",
    "from sklearn.metrics import r2_score\n",
    "from sklearn.model_selection import train_test_split\n",
    "\n",
    "from evolutionary_forest.forest import EvolutionaryForestRegressor\n",
    "\n",
    "random.seed(0)\n",
    "np.random.seed(0)\n",
    "\n",
    "# Generate dataset\n",
    "X, y = make_friedman1(n_samples=100, n_features=5, random_state=0)\n",
    "# Split dataset\n",
    "x_train, x_test, y_train, y_test = train_test_split(X, y, test_size=0.2, random_state=0)\n",
    "\n",
    "# Train Evolutionary Forest\n",
    "r = EvolutionaryForestRegressor(max_height=5, normalize=True, select='AutomaticLexicase',\n",
    "                                gene_num=10, boost_size=100, n_gen=20, n_pop=200, cross_pb=1,\n",
    "                                base_learner='Random-DT', verbose=True, n_process=1)\n",
    "r.fit(x_train, y_train)\n",
    "print(r2_score(y_test, r.predict(x_test)))"
   ]
  },
  {
   "attachments": {},
   "cell_type": "markdown",
   "metadata": {},
   "source": [
    "### Custom Defined Primitives\n",
    "\n",
    "Now, we use the `custom_primitive` argument of the `EvolutionaryForestRegressor` constructor to pass a dictionary that maps each custom primitive name to a tuple containing the corresponding function and the number of arguments it takes.\n",
    "\n",
    "Next, we train a new instance of the Evolutionary Forest regression model using the custom primitives and evaluate its performance on the test set using the $R^2$ score. The experimental results demonstrate an improvement in performance, with the $R^2$ score increasing from 0.72 to 0.73. This improvement indicates the effectiveness of using custom primitives in the Evolutionary Forest regression model to enhance its performance on regression tasks."
   ]
  },
  {
   "cell_type": "code",
   "execution_count": 2,
   "metadata": {
    "collapsed": false
   },
   "outputs": [
    {
     "name": "stdout",
     "output_type": "stream",
     "text": [
      "   \t      \t                                fitness                                 \t                      size                     \n",
      "   \t      \t------------------------------------------------------------------------\t-----------------------------------------------\n",
      "gen\tnevals\tavg      \tgen\tmax     \tmin      \tnevals\tstd     \tavg  \tgen\tmax\tmin\tnevals\tstd    \n",
      "0  \t200   \t-0.287499\t0  \t0.726149\t-0.645282\t200   \t0.236723\t44.57\t0  \t68 \t32 \t200   \t6.16564\n",
      "1  \t200   \t-0.358474\t1  \t0.312388\t-0.681907\t200   \t0.170254\t44.57\t1  \t66 \t32 \t200   \t5.7875 \n",
      "2  \t200   \t-0.386404\t2  \t0.510312\t-0.685204\t200   \t0.157304\t45.62\t2  \t72 \t34 \t200   \t6.22379\n",
      "3  \t200   \t-0.403728\t3  \t0.304373\t-0.663364\t200   \t0.156506\t45.17\t3  \t66 \t34 \t200   \t5.76984\n",
      "4  \t200   \t-0.430501\t4  \t0.20794 \t-0.694122\t200   \t0.135206\t45.17\t4  \t58 \t34 \t200   \t5.06469\n",
      "5  \t200   \t-0.4453  \t5  \t0.0619265\t-0.6594  \t200   \t0.12675 \t44.86\t5  \t60 \t34 \t200   \t4.8146 \n",
      "6  \t200   \t-0.436184\t6  \t0.287351 \t-0.688235\t200   \t0.134184\t44.94\t6  \t60 \t32 \t200   \t4.73671\n",
      "7  \t200   \t-0.448143\t7  \t0.392836 \t-0.701759\t200   \t0.129915\t45.32\t7  \t60 \t32 \t200   \t4.60191\n",
      "8  \t200   \t-0.451695\t8  \t0.120203 \t-0.706399\t200   \t0.125976\t45.33\t8  \t60 \t30 \t200   \t4.80948\n",
      "9  \t200   \t-0.464004\t9  \t0.181057 \t-0.723483\t200   \t0.136616\t45.13\t9  \t62 \t30 \t200   \t5.51209\n",
      "10 \t200   \t-0.479438\t10 \t0.151479 \t-0.686607\t200   \t0.124621\t44.62\t10 \t62 \t30 \t200   \t5.79099\n",
      "11 \t200   \t-0.480749\t11 \t-0.0785761\t-0.716514\t200   \t0.120491\t44.16\t11 \t56 \t30 \t200   \t5.50767\n",
      "12 \t200   \t-0.487612\t12 \t-0.0927588\t-0.772037\t200   \t0.117402\t44.45\t12 \t56 \t30 \t200   \t5.05346\n",
      "13 \t200   \t-0.480307\t13 \t0.163829  \t-0.729365\t200   \t0.135262\t44.1 \t13 \t56 \t30 \t200   \t4.96689\n",
      "14 \t200   \t-0.491629\t14 \t0.0100008 \t-0.708414\t200   \t0.117783\t45.04\t14 \t56 \t30 \t200   \t4.49426\n",
      "15 \t200   \t-0.484395\t15 \t0.27053   \t-0.701325\t200   \t0.135837\t45.19\t15 \t62 \t30 \t200   \t5.13847\n",
      "16 \t200   \t-0.500013\t16 \t-0.125428 \t-0.729864\t200   \t0.119181\t45.2 \t16 \t58 \t30 \t200   \t4.91935\n",
      "17 \t200   \t-0.516278\t17 \t-0.117734 \t-0.752042\t200   \t0.118095\t45.93\t17 \t62 \t30 \t200   \t5.1005 \n",
      "18 \t200   \t-0.526799\t18 \t-0.0460811\t-0.727699\t200   \t0.108835\t46.16\t18 \t62 \t30 \t200   \t5.1744 \n",
      "19 \t200   \t-0.535848\t19 \t0.132814  \t-0.778   \t200   \t0.118442\t46.24\t19 \t64 \t30 \t200   \t4.89718\n",
      "20 \t200   \t-0.536056\t20 \t-0.186319 \t-0.794953\t200   \t0.114929\t47.4 \t20 \t62 \t34 \t200   \t4.39545\n",
      "0.7271825026310701\n"
     ]
    }
   ],
   "source": [
    "# Define Custom Primitives\n",
    "r = EvolutionaryForestRegressor(max_height=5, normalize=True, select='AutomaticLexicase',\n",
    "                                gene_num=10, boost_size=100, n_gen=20, n_pop=200, cross_pb=1,\n",
    "                                base_learner='Random-DT', verbose=True, n_process=1,\n",
    "                                basic_primitive='Add,Mul,Div',\n",
    "                                custom_primitive={\n",
    "                                    'Sin': (np.sin, 1)\n",
    "                                })\n",
    "r.fit(x_train, y_train)\n",
    "print(r2_score(y_test, r.predict(x_test)))"
   ]
  },
  {
   "attachments": {},
   "cell_type": "markdown",
   "metadata": {},
   "source": [
    "In summary, this code demonstrates how to extend the functionality of the Evolutionary Forest regression model by defining and using custom primitives. This is useful for tackling more complex regression problems."
   ]
  }
 ],
 "metadata": {
  "kernelspec": {
   "display_name": "Python 3",
   "language": "python",
   "name": "python3"
  },
  "language_info": {
   "codemirror_mode": {
    "name": "ipython",
    "version": 3
   },
   "file_extension": ".py",
   "mimetype": "text/x-python",
   "name": "python",
   "nbconvert_exporter": "python",
   "pygments_lexer": "ipython3",
   "version": "3.8.19"
  }
 },
 "nbformat": 4,
 "nbformat_minor": 0
}
