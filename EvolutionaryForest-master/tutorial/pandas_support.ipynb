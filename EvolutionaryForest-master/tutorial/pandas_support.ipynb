{
 "cells": [
  {
   "cell_type": "markdown",
   "source": [
    "### Introduction\n",
    "In this notebook, we will demonstrate the power and flexibility of the Evolutionary Forest Regressor, a machine learning algorithm that combines the strengths of decision trees and genetic programming, while supporting Pandas DataFrame as input. This makes it easy to work with complex data structures and perform data preprocessing efficiently. We will walk you through a simple example, primarily demonstrating how to generate a dataset, train the model, evaluate its performance, and most importantly, showcase the process of synthesizing high-order features using Pandas DataFrames as input."
   ],
   "metadata": {
    "collapsed": false
   }
  },
  {
   "cell_type": "markdown",
   "source": [
    "### Step 1: Importing necessary libraries\n",
    "\n",
    "First, we import all the required libraries, including Pandas, NumPy, and the EvolutionaryForestRegressor from the evolutionary_forest package."
   ],
   "metadata": {
    "collapsed": false
   }
  },
  {
   "cell_type": "code",
   "execution_count": 10,
   "outputs": [],
   "source": [
    "import sys\n",
    "sys.path.insert(0, '../')\n",
    "\n",
    "import random\n",
    "import string\n",
    "import pandas as pd\n",
    "import numpy as np\n",
    "from sklearn.datasets import make_friedman1\n",
    "from sklearn.metrics import r2_score\n",
    "from sklearn.model_selection import train_test_split\n",
    "\n",
    "from evolutionary_forest.forest import EvolutionaryForestRegressor"
   ],
   "metadata": {
    "collapsed": false,
    "ExecuteTime": {
     "start_time": "2023-04-17T10:11:09.074520Z",
     "end_time": "2023-04-17T10:11:09.239361Z"
    }
   }
  },
  {
   "cell_type": "markdown",
   "source": [
    "### Step 2: Generating a dataset\n",
    "\n",
    "We generate a synthetic dataset using the make_friedman1 function from the scikit-learn library, which creates a dataset with 100 samples, five features, and a single target variable. We then convert the NumPy arrays to Pandas DataFrames for better interpretability."
   ],
   "metadata": {
    "collapsed": false
   }
  },
  {
   "cell_type": "code",
   "execution_count": 11,
   "outputs": [],
   "source": [
    "random.seed(0)\n",
    "np.random.seed(0)\n",
    "\n",
    "# Generate dataset\n",
    "X, y = make_friedman1(n_samples=100, n_features=5, random_state=0)\n",
    "\n",
    "# Convert numpy arrays to pandas dataframe\n",
    "X = pd.DataFrame(X, columns=list(string.ascii_uppercase[:X.shape[1]]))\n",
    "y = pd.DataFrame(y, columns=['Target'])"
   ],
   "metadata": {
    "collapsed": false,
    "ExecuteTime": {
     "start_time": "2023-04-17T10:11:09.091519Z",
     "end_time": "2023-04-17T10:11:09.294363Z"
    }
   }
  },
  {
   "cell_type": "markdown",
   "source": [
    "### Step 3: Splitting the dataset\n",
    "\n",
    "To evaluate the performance of our model, we split the dataset into training and testing sets using the train_test_split function from scikit-learn, with 80% of the data reserved for training and the remaining 20% for testing."
   ],
   "metadata": {
    "collapsed": false
   }
  },
  {
   "cell_type": "code",
   "execution_count": 12,
   "outputs": [],
   "source": [
    "# Split dataset\n",
    "x_train, x_test, y_train, y_test = train_test_split(X, y, test_size=0.2, random_state=0)"
   ],
   "metadata": {
    "collapsed": false,
    "ExecuteTime": {
     "start_time": "2023-04-17T10:11:09.153060Z",
     "end_time": "2023-04-17T10:11:09.295360Z"
    }
   }
  },
  {
   "cell_type": "markdown",
   "source": [
    "### Step 4: Training the Evolutionary Forest\n",
    "\n",
    "We instantiate an EvolutionaryForestRegressor with various hyperparameters, such as the maximum tree height, normalization, selection method, and base learner, among others. Next, we fit the model to the training data using the fit method."
   ],
   "metadata": {
    "collapsed": false
   }
  },
  {
   "cell_type": "code",
   "execution_count": 13,
   "outputs": [
    {
     "name": "stdout",
     "output_type": "stream",
     "text": [
      "data shape (80, 5) (80,)\n",
      "   \t      \t                                                          fitness                                                           \t                                  size                                  \n",
      "   \t      \t----------------------------------------------------------------------------------------------------------------------------\t------------------------------------------------------------------------\n",
      "gen\tnevals\t25%         \t75%         \tavg         \tgen\tmax         \tmedian      \tmin         \tnevals\tstd         \t25%\t75%\tavg  \tgen\tmax\tmedian\tmin\tnevals\tstd     \n",
      "0  \t200   \t[0.19012237]\t[0.43453516]\t[0.27484596]\t0  \t[0.66708961]\t[0.33572612]\t[-0.7157414]\t200   \t[0.25761531]\t4  \t4  \t3.995\t0  \t6  \t4     \t3  \t200   \t0.644186\n",
      "defaultdict(<class 'int'>, {'1': 200})\n",
      "P value of different population 0.024625161703711002\n",
      "Add(Sub(B, 1), Mul(1, D))\n",
      "Mul(A, A)\n",
      "Sub(C, C)\n",
      "AQ(D, A)\n",
      "AQ(A, C)\n",
      "Add(D, E)\n",
      "AQ(C, B)\n",
      "Add(A, B)\n",
      "AQ(1, B)\n",
      "Mul(E, E)\n",
      "Unique Hash [106, 97, 98, 84, 102, 87, 93, 88, 106, 94]\n",
      "number of features 717\n",
      "archive size 100\n",
      "Average Number of Active Genes 0.483\n",
      "1  \t200   \t[0.29555166]\t[0.49806983]\t[0.36314074]\t1  \t[0.64323812]\t[0.39623244]\t[-0.84621979]\t200   \t[0.22012203]\t3  \t5  \t4    \t1  \t6  \t4     \t3  \t200   \t0.74162 \n",
      "defaultdict(<class 'int'>, {'1': 200})\n",
      "P value of different population 0.564214705145786\n",
      "Add(Sub(B, 1), Mul(1, D))\n",
      "Mul(A, A)\n",
      "Sub(C, C)\n",
      "AQ(D, A)\n",
      "AQ(A, C)\n",
      "Add(D, E)\n",
      "AQ(C, B)\n",
      "Add(A, B)\n",
      "AQ(1, B)\n",
      "Mul(E, E)\n",
      "Unique Hash [88, 76, 76, 68, 74, 65, 76, 70, 71, 81]\n",
      "number of features 561\n",
      "archive size 100\n",
      "Average Number of Active Genes 0.4925\n",
      "2  \t200   \t[0.33525833]\t[0.50406939]\t[0.39082004]\t2  \t[0.64384316]\t[0.43333767]\t[-0.28804327]\t200   \t[0.17619419]\t3  \t5  \t3.945\t2  \t6  \t4     \t3  \t200   \t0.769399\n",
      "defaultdict(<class 'int'>, {'1': 200})\n",
      "P value of different population 0.06459465037331812\n",
      "Mul(C, B)\n",
      "AQ(B, D)\n",
      "Mul(C, -1)\n",
      "Add(Sub(D, -1), E)\n",
      "Add(D, 1)\n",
      "Add(B, A)\n",
      "Add(A, B)\n",
      "Add(Sub(C, D), Sub(-1, A))\n",
      "Sub(Sub(C, D), Add(E, C))\n",
      "Sub(B, 1)\n",
      "Unique Hash [75, 64, 61, 60, 56, 56, 64, 62, 64, 68]\n",
      "number of features 490\n",
      "archive size 100\n",
      "Average Number of Active Genes 0.511\n",
      "3  \t200   \t[0.36593586]\t[0.52239309]\t[0.42267632]\t3  \t[0.70986509]\t[0.46539533]\t[-0.22298001]\t200   \t[0.16230539]\t3  \t4  \t3.895\t3  \t6  \t4     \t3  \t200   \t0.777158\n",
      "defaultdict(<class 'int'>, {'1': 200})\n",
      "P value of different population 0.09775105544859913\n",
      "Mul(C, B)\n",
      "AQ(B, D)\n",
      "Mul(C, -1)\n",
      "Add(Sub(D, -1), E)\n",
      "Add(D, 1)\n",
      "Add(B, A)\n",
      "Add(A, B)\n",
      "Add(Sub(C, D), Sub(-1, A))\n",
      "Sub(Sub(C, D), Add(E, C))\n",
      "Sub(B, 1)\n",
      "Unique Hash [62, 61, 54, 56, 52, 53, 59, 57, 72, 56]\n",
      "number of features 467\n",
      "archive size 100\n",
      "Average Number of Active Genes 0.484\n",
      "4  \t200   \t[0.37376548]\t[0.52729353]\t[0.4455025] \t4  \t[0.68875481]\t[0.46069524]\t[-0.20634032]\t200   \t[0.13291075]\t4  \t4  \t4.035\t4  \t6  \t4     \t3  \t200   \t0.68101 \n",
      "defaultdict(<class 'int'>, {'1': 200})\n",
      "P value of different population 0.25495317799825346\n",
      "Mul(C, B)\n",
      "AQ(B, D)\n",
      "Mul(C, -1)\n",
      "Add(Sub(D, -1), E)\n",
      "Add(D, 1)\n",
      "Add(B, A)\n",
      "Add(A, B)\n",
      "Add(Sub(C, D), Sub(-1, A))\n",
      "Sub(Sub(C, D), Add(E, C))\n",
      "Sub(B, 1)\n",
      "Unique Hash [54, 53, 56, 66, 51, 50, 46, 60, 64, 63]\n",
      "number of features 468\n",
      "archive size 100\n",
      "Average Number of Active Genes 0.461\n",
      "5  \t200   \t[0.38690087]\t[0.54307171]\t[0.44232336]\t5  \t[0.682537]  \t[0.47506755]\t[-0.29428089]\t200   \t[0.15499835]\t4  \t4  \t4.085\t5  \t6  \t4     \t3  \t200   \t0.654045\n",
      "defaultdict(<class 'int'>, {'1': 200})\n",
      "P value of different population 0.0006373466312952018\n",
      "Mul(C, B)\n",
      "AQ(B, D)\n",
      "Mul(C, -1)\n",
      "Add(Sub(D, -1), E)\n",
      "Add(D, 1)\n",
      "Add(B, A)\n",
      "Add(A, B)\n",
      "Add(Sub(C, D), Sub(-1, A))\n",
      "Sub(Sub(C, D), Add(E, C))\n",
      "Sub(B, 1)\n",
      "Unique Hash [54, 55, 54, 58, 47, 42, 45, 58, 68, 54]\n",
      "number of features 453\n",
      "archive size 100\n",
      "Average Number of Active Genes 0.472\n",
      "6  \t200   \t[0.42125476]\t[0.55437706]\t[0.48078764]\t6  \t[0.68480543]\t[0.49663878]\t[-0.43472194]\t200   \t[0.12458777]\t4  \t5  \t4.14 \t6  \t6  \t4     \t3  \t200   \t0.671118\n",
      "defaultdict(<class 'int'>, {'1': 200})\n",
      "P value of different population 0.11366474781596309\n",
      "Add(Sub(B, E), C)\n",
      "Mul(A, A)\n",
      "Sub(E, Mul(A, B))\n",
      "AQ(D, A)\n",
      "AQ(E, C)\n",
      "Add(D, E)\n",
      "AQ(C, B)\n",
      "Add(A, B)\n",
      "AQ(1, B)\n",
      "Mul(B, E)\n",
      "Unique Hash [61, 43, 53, 50, 53, 45, 44, 53, 64, 64]\n",
      "number of features 455\n",
      "archive size 100\n",
      "Average Number of Active Genes 0.464\n",
      "7  \t200   \t[0.39341537]\t[0.54663241]\t[0.45771793]\t7  \t[0.721157]  \t[0.47348421]\t[-0.29986946]\t200   \t[0.13971642]\t4  \t5  \t4.16 \t7  \t6  \t4     \t3  \t200   \t0.695989\n",
      "defaultdict(<class 'int'>, {'1': 200})\n",
      "P value of different population 0.48713803171001935\n",
      "Add(Sub(B, E), C)\n",
      "Mul(A, A)\n",
      "Sub(E, Mul(A, B))\n",
      "AQ(D, A)\n",
      "AQ(E, C)\n",
      "Add(D, E)\n",
      "AQ(C, B)\n",
      "Add(A, B)\n",
      "AQ(1, B)\n",
      "Mul(B, E)\n",
      "Unique Hash [51, 46, 58, 64, 57, 54, 48, 52, 58, 66]\n",
      "number of features 485\n",
      "archive size 100\n",
      "Average Number of Active Genes 0.456\n",
      "8  \t200   \t[0.40588848]\t[0.56165638]\t[0.47493693]\t8  \t[0.68326227]\t[0.50704606]\t[-0.05542163]\t200   \t[0.12237239]\t4  \t5  \t4.235\t8  \t6  \t4     \t3  \t200   \t0.699839\n",
      "defaultdict(<class 'int'>, {'1': 200})\n",
      "P value of different population 0.5542678363243182\n",
      "Add(Sub(B, E), C)\n",
      "Mul(A, A)\n",
      "Sub(E, Mul(A, B))\n",
      "AQ(D, A)\n",
      "AQ(E, C)\n",
      "Add(D, E)\n",
      "AQ(C, B)\n",
      "Add(A, B)\n",
      "AQ(1, B)\n",
      "Mul(B, E)\n",
      "Unique Hash [54, 51, 59, 62, 53, 57, 48, 48, 55, 68]\n",
      "number of features 501\n",
      "archive size 100\n",
      "Average Number of Active Genes 0.484\n",
      "9  \t200   \t[0.42404948]\t[0.56764657]\t[0.48201378]\t9  \t[0.72111327]\t[0.5027473] \t[-0.06015968]\t200   \t[0.12636795]\t4  \t5  \t4.235\t9  \t6  \t4     \t3  \t200   \t0.754834\n",
      "defaultdict(<class 'int'>, {'1': 200})\n",
      "P value of different population 0.19324837891878444\n",
      "Mul(C, B)\n",
      "AQ(B, D)\n",
      "Mul(C, B)\n",
      "Add(Sub(D, C), A)\n",
      "Add(D, C)\n",
      "Add(B, A)\n",
      "Add(A, 1)\n",
      "Add(Sub(C, D), Sub(-1, A))\n",
      "Sub(Sub(C, D), Add(E, C))\n",
      "Sub(E, E)\n",
      "Unique Hash [63, 48, 56, 58, 53, 58, 51, 55, 54, 65]\n",
      "number of features 506\n",
      "archive size 100\n",
      "Average Number of Active Genes 0.464\n",
      "10 \t200   \t[0.39620911]\t[0.5495088] \t[0.47227128]\t10 \t[0.76921772]\t[0.48010593]\t[-0.03120005]\t200   \t[0.12313408]\t4  \t5  \t4.305\t10 \t6  \t4     \t3  \t200   \t0.74295 \n",
      "defaultdict(<class 'int'>, {'1': 200})\n",
      "P value of different population 0.06043289007986042\n",
      "Mul(C, B)\n",
      "AQ(B, D)\n",
      "Mul(C, B)\n",
      "Add(Sub(D, C), A)\n",
      "Add(D, C)\n",
      "Add(B, A)\n",
      "Add(A, 1)\n",
      "Add(Sub(C, D), Sub(-1, A))\n",
      "Sub(Sub(C, D), Add(E, C))\n",
      "Sub(E, E)\n",
      "Unique Hash [53, 49, 58, 60, 52, 53, 54, 50, 63, 62]\n",
      "number of features 505\n",
      "archive size 100\n",
      "Average Number of Active Genes 0.452\n",
      "11 \t200   \t[0.43458513]\t[0.5823155] \t[0.48437964]\t11 \t[0.72898876]\t[0.5186813] \t[-0.48906431]\t200   \t[0.1631324] \t4  \t5  \t4.395\t11 \t6  \t4     \t3  \t200   \t0.706382\n",
      "defaultdict(<class 'int'>, {'1': 200})\n",
      "P value of different population 0.10388865931791373\n",
      "Mul(C, B)\n",
      "AQ(B, D)\n",
      "Mul(C, B)\n",
      "Add(Sub(D, C), A)\n",
      "Add(D, C)\n",
      "Add(B, A)\n",
      "Add(A, 1)\n",
      "Add(Sub(C, D), Sub(-1, A))\n",
      "Sub(Sub(C, D), Add(E, C))\n",
      "Sub(E, E)\n",
      "Unique Hash [55, 55, 52, 61, 46, 63, 48, 50, 58, 61]\n",
      "number of features 516\n",
      "archive size 100\n",
      "Average Number of Active Genes 0.462\n",
      "12 \t200   \t[0.43300064]\t[0.5961911] \t[0.49243904]\t12 \t[0.73039729]\t[0.5237304] \t[-0.31616042]\t200   \t[0.15605989]\t4  \t5  \t4.505\t12 \t6  \t4     \t3  \t200   \t0.721093\n",
      "defaultdict(<class 'int'>, {'1': 200})\n",
      "P value of different population 0.09479279235540534\n",
      "Mul(C, B)\n",
      "AQ(B, D)\n",
      "Mul(C, B)\n",
      "Add(Sub(D, C), A)\n",
      "Add(D, C)\n",
      "Add(B, A)\n",
      "Add(A, 1)\n",
      "Add(Sub(C, D), Sub(-1, A))\n",
      "Sub(Sub(C, D), Add(E, C))\n",
      "Sub(E, E)\n",
      "Unique Hash [61, 54, 53, 64, 50, 51, 50, 54, 53, 64]\n",
      "number of features 505\n",
      "archive size 100\n",
      "Average Number of Active Genes 0.464\n",
      "13 \t200   \t[0.44146139]\t[0.57248509]\t[0.48712557]\t13 \t[0.69799784]\t[0.50737615]\t[-0.38197933]\t200   \t[0.14370422]\t4  \t5  \t4.47 \t13 \t6  \t4     \t3  \t200   \t0.780449\n",
      "defaultdict(<class 'int'>, {'1': 200})\n",
      "P value of different population 0.6467245773434841\n",
      "Mul(C, B)\n",
      "AQ(B, D)\n",
      "Mul(C, B)\n",
      "Add(Sub(D, C), A)\n",
      "Add(D, C)\n",
      "Add(B, A)\n",
      "Add(A, 1)\n",
      "Add(Sub(C, D), Sub(-1, A))\n",
      "Sub(Sub(C, D), Add(E, C))\n",
      "Sub(E, E)\n",
      "Unique Hash [55, 52, 45, 51, 45, 57, 52, 53, 57, 60]\n",
      "number of features 500\n",
      "archive size 100\n",
      "Average Number of Active Genes 0.464\n",
      "14 \t200   \t[0.44950166]\t[0.57911894]\t[0.5005383] \t14 \t[0.72927091]\t[0.51054149]\t[0.08105262] \t200   \t[0.10984005]\t4  \t5  \t4.52 \t14 \t7  \t4     \t3  \t200   \t0.74135 \n",
      "defaultdict(<class 'int'>, {'1': 200})\n",
      "P value of different population 0.6897609572758945\n",
      "Mul(C, B)\n",
      "AQ(B, D)\n",
      "Mul(C, B)\n",
      "Add(Sub(D, C), A)\n",
      "Add(D, C)\n",
      "Add(B, A)\n",
      "Add(A, 1)\n",
      "Add(Sub(C, D), Sub(-1, A))\n",
      "Sub(Sub(C, D), Add(E, C))\n",
      "Sub(E, E)\n",
      "Unique Hash [52, 49, 55, 54, 51, 62, 50, 58, 46, 57]\n",
      "number of features 498\n",
      "archive size 100\n",
      "Average Number of Active Genes 0.469\n",
      "15 \t200   \t[0.43713099]\t[0.58281974]\t[0.4929061] \t15 \t[0.71215335]\t[0.52178584]\t[-0.29415636]\t200   \t[0.1309677] \t4  \t5  \t4.515\t15 \t7  \t4     \t3  \t200   \t0.699839\n",
      "defaultdict(<class 'int'>, {'1': 200})\n",
      "P value of different population 0.2035648406111873\n",
      "Mul(C, B)\n",
      "AQ(B, D)\n",
      "Mul(C, B)\n",
      "Add(Sub(D, C), A)\n",
      "Add(D, C)\n",
      "Add(B, A)\n",
      "Add(A, 1)\n",
      "Add(Sub(C, D), Sub(-1, A))\n",
      "Sub(Sub(C, D), Add(E, C))\n",
      "Sub(E, E)\n",
      "Unique Hash [47, 49, 54, 57, 48, 58, 52, 64, 59, 58]\n",
      "number of features 511\n",
      "archive size 100\n",
      "Average Number of Active Genes 0.4705\n",
      "16 \t200   \t[0.43961507]\t[0.58578776]\t[0.4983088] \t16 \t[0.75297625]\t[0.51976103]\t[-0.13445711]\t200   \t[0.13311837]\t4  \t5  \t4.545\t16 \t7  \t5     \t3  \t200   \t0.746977\n",
      "defaultdict(<class 'int'>, {'1': 200})\n",
      "P value of different population 0.9410723491398268\n",
      "Mul(C, B)\n",
      "AQ(B, D)\n",
      "Mul(C, B)\n",
      "Add(Sub(D, C), A)\n",
      "Add(D, C)\n",
      "Add(B, A)\n",
      "Add(A, 1)\n",
      "Add(Sub(C, D), Sub(-1, A))\n",
      "Sub(Sub(C, D), Add(E, C))\n",
      "Sub(E, E)\n",
      "Unique Hash [53, 54, 55, 65, 54, 54, 47, 65, 61, 56]\n",
      "number of features 527\n",
      "archive size 100\n",
      "Average Number of Active Genes 0.4705\n",
      "17 \t200   \t[0.41862414]\t[0.58322555]\t[0.49119371]\t17 \t[0.74577101]\t[0.51131548]\t[-0.43301023]\t200   \t[0.13906795]\t4  \t5  \t4.59 \t17 \t7  \t5     \t3  \t200   \t0.78224 \n",
      "defaultdict(<class 'int'>, {'1': 200})\n",
      "P value of different population 0.1646090619494487\n",
      "Mul(C, B)\n",
      "AQ(B, D)\n",
      "Mul(C, B)\n",
      "Add(Sub(D, C), A)\n",
      "Add(D, C)\n",
      "Add(B, A)\n",
      "Add(A, 1)\n",
      "Add(Sub(C, D), Sub(-1, A))\n",
      "Sub(Sub(C, D), Add(E, C))\n",
      "Sub(E, E)\n",
      "Unique Hash [47, 52, 59, 61, 56, 57, 56, 59, 50, 61]\n",
      "number of features 514\n",
      "archive size 100\n",
      "Average Number of Active Genes 0.4615\n",
      "18 \t200   \t[0.44699716]\t[0.58233811]\t[0.49970462]\t18 \t[0.69853723]\t[0.52480791]\t[-0.49405146]\t200   \t[0.13296636]\t4  \t5  \t4.65 \t18 \t6  \t5     \t3  \t200   \t0.71239 \n",
      "defaultdict(<class 'int'>, {'1': 200})\n",
      "P value of different population 0.5945602565439676\n",
      "Mul(C, B)\n",
      "AQ(B, D)\n",
      "Mul(C, B)\n",
      "Add(Sub(D, C), A)\n",
      "Add(D, C)\n",
      "Add(B, A)\n",
      "Add(A, 1)\n",
      "Add(Sub(C, D), Sub(-1, A))\n",
      "Sub(Sub(C, D), Add(E, C))\n",
      "Sub(E, E)\n",
      "Unique Hash [50, 54, 53, 59, 56, 69, 47, 60, 55, 57]\n",
      "number of features 525\n",
      "archive size 100\n",
      "Average Number of Active Genes 0.4575\n",
      "19 \t200   \t[0.44284067]\t[0.57907975]\t[0.49118415]\t19 \t[0.76522193]\t[0.52776305]\t[-0.73867616]\t200   \t[0.15744464]\t4  \t5  \t4.675\t19 \t6  \t5     \t3  \t200   \t0.692369\n",
      "defaultdict(<class 'int'>, {'1': 200})\n",
      "P value of different population 0.02760325080301779\n",
      "Mul(C, B)\n",
      "AQ(B, D)\n",
      "Mul(C, B)\n",
      "Add(Sub(D, C), A)\n",
      "Add(D, C)\n",
      "Add(B, A)\n",
      "Add(A, 1)\n",
      "Add(Sub(C, D), Sub(-1, A))\n",
      "Sub(Sub(C, D), Add(E, C))\n",
      "Sub(E, E)\n",
      "Unique Hash [58, 66, 47, 67, 53, 58, 48, 51, 54, 64]\n",
      "number of features 528\n",
      "archive size 100\n",
      "Average Number of Active Genes 0.454\n",
      "20 \t200   \t[0.42975351]\t[0.5746999] \t[0.48729482]\t20 \t[0.74559179]\t[0.5055934] \t[-0.45160737]\t200   \t[0.14150331]\t4  \t5  \t4.68 \t20 \t6  \t5     \t3  \t200   \t0.691086\n",
      "defaultdict(<class 'int'>, {'1': 200})\n",
      "Final Ensemble Size 100\n"
     ]
    },
    {
     "data": {
      "text/plain": "EvolutionaryForestRegressor(basic_primitives='Add,Sub,Mul,AQ', boost_size=100,\n                            cross_pb=1, gene_num=10, mab_parameter={},\n                            map_elite_parameter={}, max_height=5, n_pop=200,\n                            select='AutomaticLexicase', verbose=True)",
      "text/html": "<style>#sk-container-id-1 {color: black;background-color: white;}#sk-container-id-1 pre{padding: 0;}#sk-container-id-1 div.sk-toggleable {background-color: white;}#sk-container-id-1 label.sk-toggleable__label {cursor: pointer;display: block;width: 100%;margin-bottom: 0;padding: 0.3em;box-sizing: border-box;text-align: center;}#sk-container-id-1 label.sk-toggleable__label-arrow:before {content: \"▸\";float: left;margin-right: 0.25em;color: #696969;}#sk-container-id-1 label.sk-toggleable__label-arrow:hover:before {color: black;}#sk-container-id-1 div.sk-estimator:hover label.sk-toggleable__label-arrow:before {color: black;}#sk-container-id-1 div.sk-toggleable__content {max-height: 0;max-width: 0;overflow: hidden;text-align: left;background-color: #f0f8ff;}#sk-container-id-1 div.sk-toggleable__content pre {margin: 0.2em;color: black;border-radius: 0.25em;background-color: #f0f8ff;}#sk-container-id-1 input.sk-toggleable__control:checked~div.sk-toggleable__content {max-height: 200px;max-width: 100%;overflow: auto;}#sk-container-id-1 input.sk-toggleable__control:checked~label.sk-toggleable__label-arrow:before {content: \"▾\";}#sk-container-id-1 div.sk-estimator input.sk-toggleable__control:checked~label.sk-toggleable__label {background-color: #d4ebff;}#sk-container-id-1 div.sk-label input.sk-toggleable__control:checked~label.sk-toggleable__label {background-color: #d4ebff;}#sk-container-id-1 input.sk-hidden--visually {border: 0;clip: rect(1px 1px 1px 1px);clip: rect(1px, 1px, 1px, 1px);height: 1px;margin: -1px;overflow: hidden;padding: 0;position: absolute;width: 1px;}#sk-container-id-1 div.sk-estimator {font-family: monospace;background-color: #f0f8ff;border: 1px dotted black;border-radius: 0.25em;box-sizing: border-box;margin-bottom: 0.5em;}#sk-container-id-1 div.sk-estimator:hover {background-color: #d4ebff;}#sk-container-id-1 div.sk-parallel-item::after {content: \"\";width: 100%;border-bottom: 1px solid gray;flex-grow: 1;}#sk-container-id-1 div.sk-label:hover label.sk-toggleable__label {background-color: #d4ebff;}#sk-container-id-1 div.sk-serial::before {content: \"\";position: absolute;border-left: 1px solid gray;box-sizing: border-box;top: 0;bottom: 0;left: 50%;z-index: 0;}#sk-container-id-1 div.sk-serial {display: flex;flex-direction: column;align-items: center;background-color: white;padding-right: 0.2em;padding-left: 0.2em;position: relative;}#sk-container-id-1 div.sk-item {position: relative;z-index: 1;}#sk-container-id-1 div.sk-parallel {display: flex;align-items: stretch;justify-content: center;background-color: white;position: relative;}#sk-container-id-1 div.sk-item::before, #sk-container-id-1 div.sk-parallel-item::before {content: \"\";position: absolute;border-left: 1px solid gray;box-sizing: border-box;top: 0;bottom: 0;left: 50%;z-index: -1;}#sk-container-id-1 div.sk-parallel-item {display: flex;flex-direction: column;z-index: 1;position: relative;background-color: white;}#sk-container-id-1 div.sk-parallel-item:first-child::after {align-self: flex-end;width: 50%;}#sk-container-id-1 div.sk-parallel-item:last-child::after {align-self: flex-start;width: 50%;}#sk-container-id-1 div.sk-parallel-item:only-child::after {width: 0;}#sk-container-id-1 div.sk-dashed-wrapped {border: 1px dashed gray;margin: 0 0.4em 0.5em 0.4em;box-sizing: border-box;padding-bottom: 0.4em;background-color: white;}#sk-container-id-1 div.sk-label label {font-family: monospace;font-weight: bold;display: inline-block;line-height: 1.2em;}#sk-container-id-1 div.sk-label-container {text-align: center;}#sk-container-id-1 div.sk-container {/* jupyter's `normalize.less` sets `[hidden] { display: none; }` but bootstrap.min.css set `[hidden] { display: none !important; }` so we also need the `!important` here to be able to override the default hidden behavior on the sphinx rendered scikit-learn.org. See: https://github.com/scikit-learn/scikit-learn/issues/21755 */display: inline-block !important;position: relative;}#sk-container-id-1 div.sk-text-repr-fallback {display: none;}</style><div id=\"sk-container-id-1\" class=\"sk-top-container\"><div class=\"sk-text-repr-fallback\"><pre>EvolutionaryForestRegressor(basic_primitives=&#x27;Add,Sub,Mul,AQ&#x27;, boost_size=100,\n                            cross_pb=1, gene_num=10, mab_parameter={},\n                            map_elite_parameter={}, max_height=5, n_pop=200,\n                            select=&#x27;AutomaticLexicase&#x27;, verbose=True)</pre><b>In a Jupyter environment, please rerun this cell to show the HTML representation or trust the notebook. <br />On GitHub, the HTML representation is unable to render, please try loading this page with nbviewer.org.</b></div><div class=\"sk-container\" hidden><div class=\"sk-item\"><div class=\"sk-estimator sk-toggleable\"><input class=\"sk-toggleable__control sk-hidden--visually\" id=\"sk-estimator-id-1\" type=\"checkbox\" checked><label for=\"sk-estimator-id-1\" class=\"sk-toggleable__label sk-toggleable__label-arrow\">EvolutionaryForestRegressor</label><div class=\"sk-toggleable__content\"><pre>EvolutionaryForestRegressor(basic_primitives=&#x27;Add,Sub,Mul,AQ&#x27;, boost_size=100,\n                            cross_pb=1, gene_num=10, mab_parameter={},\n                            map_elite_parameter={}, max_height=5, n_pop=200,\n                            select=&#x27;AutomaticLexicase&#x27;, verbose=True)</pre></div></div></div></div></div>"
     },
     "execution_count": 13,
     "metadata": {},
     "output_type": "execute_result"
    }
   ],
   "source": [
    "# Train Evolutionary Forest\n",
    "r = EvolutionaryForestRegressor(max_height=5, normalize=True, select='AutomaticLexicase',\n",
    "                                gene_num=10, boost_size=100, n_gen=20, n_pop=200, cross_pb=1,\n",
    "                                base_learner='Random-DT', verbose=True, n_process=1)\n",
    "r.fit(x_train, y_train)"
   ],
   "metadata": {
    "collapsed": false,
    "ExecuteTime": {
     "start_time": "2023-04-17T10:11:09.166066Z",
     "end_time": "2023-04-17T10:11:58.639655Z"
    }
   }
  },
  {
   "cell_type": "markdown",
   "source": [
    "### Step 5: Evaluating the model\n",
    "\n",
    "To evaluate the performance of our trained model, we use the r2_score metric from scikit-learn, which measures the proportion of variance in the target variable that is predictable from the input features. The closer the R² score is to 1, the better the model is at predicting the target variable."
   ],
   "metadata": {
    "collapsed": false
   }
  },
  {
   "cell_type": "code",
   "execution_count": 14,
   "outputs": [
    {
     "name": "stdout",
     "output_type": "stream",
     "text": [
      "0.7373017164628979\n"
     ]
    }
   ],
   "source": [
    "print(r2_score(y_test, r.predict(x_test)))"
   ],
   "metadata": {
    "collapsed": false,
    "ExecuteTime": {
     "start_time": "2023-04-17T10:11:58.642663Z",
     "end_time": "2023-04-17T10:11:59.378148Z"
    }
   }
  },
  {
   "cell_type": "markdown",
   "source": [
    "### Step 6: Analyzing feature importance\n",
    "\n",
    "Using the get_feature_importance and plot_feature_importance functions from the evolutionary_forest.utils module, we can visualize the importance of each feature in the dataset. This can provide valuable insights into which features contribute the most to the model's predictions."
   ],
   "metadata": {
    "collapsed": false
   }
  },
  {
   "cell_type": "code",
   "execution_count": 15,
   "outputs": [
    {
     "data": {
      "text/plain": "<Figure size 864x576 with 1 Axes>",
      "image/png": "[encoded data removed]"
     },
     "metadata": {},
     "output_type": "display_data"
    }
   ],
   "source": [
    "from evolutionary_forest.utils import get_feature_importance, plot_feature_importance\n",
    "\n",
    "code_importance_dict = get_feature_importance(r)\n",
    "plot_feature_importance(code_importance_dict)"
   ],
   "metadata": {
    "collapsed": false,
    "ExecuteTime": {
     "start_time": "2023-04-17T10:11:58.896945Z",
     "end_time": "2023-04-17T10:11:59.834759Z"
    }
   }
  },
  {
   "cell_type": "markdown",
   "source": [
    "### Step 7: Synthesizing new features\n",
    "\n",
    "In this section, we highlight the ability of the Evolutionary Forest to synthesize new features while maintaining the output format as a Pandas DataFrame. This is particularly useful for keeping track of the newly created high-order features and their relationships with the original features.\n",
    "\n",
    "When using the feature_append function, it generates new features based on the top features identified earlier and appends them to the original DataFrame. The output is a Pandas DataFrame with column names that represent the high-order features, clearly indicating their relationship with the initial features. This makes it easy to interpret and understand the newly generated features and their potential impact on the model's performance.\n",
    "\n",
    "By maintaining the output as a Pandas DataFrame and providing meaningful column names, the Evolutionary Forest algorithm ensures a seamless integration with your existing data processing pipeline and allows you to further analyze and manipulate the synthesized features using the familiar and powerful Pandas library."
   ],
   "metadata": {
    "collapsed": false
   }
  },
  {
   "cell_type": "code",
   "execution_count": 16,
   "outputs": [
    {
     "data": {
      "text/plain": "           A         B         C         D         E   Add(E, Add(D, B))  \\\n0   1.065143 -0.579668 -0.255408  0.242361  1.032729            0.695422   \n1   1.109978 -1.185054 -1.294610 -1.396617  0.515862           -2.065809   \n2  -1.401258 -1.628338  1.280293  0.866252  1.159389            0.397303   \n3   0.782269 -0.728053 -1.125917 -0.400596  1.440231            0.311581   \n4   1.779483  0.705713 -0.829664  1.422357  0.707030            2.835100   \n..       ...       ...       ...       ...       ...                 ...   \n75 -1.461001 -0.674892 -1.045589 -0.319058 -1.241996           -2.235946   \n76  1.135062 -0.791623 -0.288404  0.240003 -0.781912           -1.333532   \n77 -0.728124 -1.239145 -1.377173 -0.699913 -0.816707           -2.755765   \n78 -0.160961 -0.390247  0.018500 -0.778688  0.238694           -0.930241   \n79  0.589694  1.353394 -0.631240  0.931619 -1.065330            1.219683   \n\n     Add(D, E)   Add(D, A)   Sub(Sub(C, D), Add(E, C))   Add(B, A)  ...  \\\n0     1.275090    1.307504                   -1.275090    0.485474  ...   \n1    -0.880755   -0.286639                    0.880755   -0.075076  ...   \n2     2.025641   -0.535007                   -2.025641   -3.029596  ...   \n3     1.039635    0.381673                   -1.039635    0.054216  ...   \n4     2.129388    3.201840                   -2.129388    2.485196  ...   \n..         ...         ...                         ...         ...  ...   \n75   -1.561054   -1.780060                    1.561054   -2.135894  ...   \n76   -0.541909    1.375065                    0.541909    0.343439  ...   \n77   -1.516620   -1.428036                    1.516620   -1.967268  ...   \n78   -0.539994   -0.939648                    0.539994   -0.551207  ...   \n79   -0.133711    1.521313                    0.133711    1.943089  ...   \n\n     Sub(Mul(B, B), A)   AQ(C, Add(AQ(D, C), AQ(A, B)))  \\\n0            -0.729127                        -0.167068   \n1             0.294374                        -1.282470   \n2             4.052742                         1.255412   \n3            -0.252207                        -1.057190   \n4            -1.281453                        -0.303049   \n..                 ...                              ...   \n75            1.916481                        -0.598772   \n76           -0.508395                        -0.192028   \n77            2.263603                        -1.039762   \n78            0.313253                         0.013557   \n79            1.241981                        -0.416629   \n\n     Mul(AQ(A, D), Mul(1, B))   Mul(C, Mul(Sub(B, E), B))   AQ(A, Sub(E, D))  \\\n0                   -0.600058                   -0.238718           0.835649   \n1                   -0.765776                   -2.609513           0.514321   \n2                    1.724626                    5.811712          -1.344675   \n3                   -0.528690                   -1.777403           0.373414   \n4                    0.722263                    0.000771           1.447312   \n..                        ...                         ...                ...   \n75                   0.939364                    0.400182          -1.073623   \n76                  -0.873729                   -0.002217           0.793864   \n77                   0.739183                   -0.720897          -0.723208   \n78                   0.049561                    0.004541          -0.112832   \n79                   0.583946                   -2.066354           0.264042   \n\n     Add(Sub(E, C), AQ(C, B))   Sub(AQ(E, A), Sub(E, 0))   Sub(Mul(C, E), D)  \\\n0                    1.067169                  -0.325866           -0.506128   \n1                    0.975561                  -0.170574            0.728777   \n2                    0.549096                  -0.485909            0.618106   \n3                    1.655917                  -0.305855           -1.220985   \n4                    0.858831                  -0.360653           -2.008955   \n..                        ...                        ...                 ...   \n75                  -1.063085                   0.540485            1.617675   \n76                  -0.719635                   0.265025           -0.014496   \n77                  -0.304419                   0.156474            1.824659   \n78                   0.237428                  -0.003033            0.783104   \n79                  -0.809212                   0.147671           -0.259140   \n\n     AQ(Add(A, A), E)   Sub(A, E)  \n0            1.481894    0.032414  \n1            1.972913    0.594116  \n2           -1.830427   -2.560648  \n3            0.892310   -0.657962  \n4            2.905988    1.072453  \n..                ...         ...  \n75          -1.832507   -0.219006  \n76           1.788338    1.916974  \n77          -1.127888    0.088584  \n78          -0.313125   -0.399654  \n79           0.807171    1.655024  \n\n[80 rows x 152 columns]",
      "text/html": "<div>\n<style scoped>\n    .dataframe tbody tr th:only-of-type {\n        vertical-align: middle;\n    }\n\n    .dataframe tbody tr th {\n        vertical-align: top;\n    }\n\n    .dataframe thead th {\n        text-align: right;\n    }\n</style>\n<table border=\"1\" class=\"dataframe\">\n  <thead>\n    <tr style=\"text-align: right;\">\n      <th></th>\n      <th>A</th>\n      <th>B</th>\n      <th>C</th>\n      <th>D</th>\n      <th>E</th>\n      <th>Add(E, Add(D, B))</th>\n      <th>Add(D, E)</th>\n      <th>Add(D, A)</th>\n      <th>Sub(Sub(C, D), Add(E, C))</th>\n      <th>Add(B, A)</th>\n      <th>...</th>\n      <th>Sub(Mul(B, B), A)</th>\n      <th>AQ(C, Add(AQ(D, C), AQ(A, B)))</th>\n      <th>Mul(AQ(A, D), Mul(1, B))</th>\n      <th>Mul(C, Mul(Sub(B, E), B))</th>\n      <th>AQ(A, Sub(E, D))</th>\n      <th>Add(Sub(E, C), AQ(C, B))</th>\n      <th>Sub(AQ(E, A), Sub(E, 0))</th>\n      <th>Sub(Mul(C, E), D)</th>\n      <th>AQ(Add(A, A), E)</th>\n      <th>Sub(A, E)</th>\n    </tr>\n  </thead>\n  <tbody>\n    <tr>\n      <th>0</th>\n      <td>1.065143</td>\n      <td>-0.579668</td>\n      <td>-0.255408</td>\n      <td>0.242361</td>\n      <td>1.032729</td>\n      <td>0.695422</td>\n      <td>1.275090</td>\n      <td>1.307504</td>\n      <td>-1.275090</td>\n      <td>0.485474</td>\n      <td>...</td>\n      <td>-0.729127</td>\n      <td>-0.167068</td>\n      <td>-0.600058</td>\n      <td>-0.238718</td>\n      <td>0.835649</td>\n      <td>1.067169</td>\n      <td>-0.325866</td>\n      <td>-0.506128</td>\n      <td>1.481894</td>\n      <td>0.032414</td>\n    </tr>\n    <tr>\n      <th>1</th>\n      <td>1.109978</td>\n      <td>-1.185054</td>\n      <td>-1.294610</td>\n      <td>-1.396617</td>\n      <td>0.515862</td>\n      <td>-2.065809</td>\n      <td>-0.880755</td>\n      <td>-0.286639</td>\n      <td>0.880755</td>\n      <td>-0.075076</td>\n      <td>...</td>\n      <td>0.294374</td>\n      <td>-1.282470</td>\n      <td>-0.765776</td>\n      <td>-2.609513</td>\n      <td>0.514321</td>\n      <td>0.975561</td>\n      <td>-0.170574</td>\n      <td>0.728777</td>\n      <td>1.972913</td>\n      <td>0.594116</td>\n    </tr>\n    <tr>\n      <th>2</th>\n      <td>-1.401258</td>\n      <td>-1.628338</td>\n      <td>1.280293</td>\n      <td>0.866252</td>\n      <td>1.159389</td>\n      <td>0.397303</td>\n      <td>2.025641</td>\n      <td>-0.535007</td>\n      <td>-2.025641</td>\n      <td>-3.029596</td>\n      <td>...</td>\n      <td>4.052742</td>\n      <td>1.255412</td>\n      <td>1.724626</td>\n      <td>5.811712</td>\n      <td>-1.344675</td>\n      <td>0.549096</td>\n      <td>-0.485909</td>\n      <td>0.618106</td>\n      <td>-1.830427</td>\n      <td>-2.560648</td>\n    </tr>\n    <tr>\n      <th>3</th>\n      <td>0.782269</td>\n      <td>-0.728053</td>\n      <td>-1.125917</td>\n      <td>-0.400596</td>\n      <td>1.440231</td>\n      <td>0.311581</td>\n      <td>1.039635</td>\n      <td>0.381673</td>\n      <td>-1.039635</td>\n      <td>0.054216</td>\n      <td>...</td>\n      <td>-0.252207</td>\n      <td>-1.057190</td>\n      <td>-0.528690</td>\n      <td>-1.777403</td>\n      <td>0.373414</td>\n      <td>1.655917</td>\n      <td>-0.305855</td>\n      <td>-1.220985</td>\n      <td>0.892310</td>\n      <td>-0.657962</td>\n    </tr>\n    <tr>\n      <th>4</th>\n      <td>1.779483</td>\n      <td>0.705713</td>\n      <td>-0.829664</td>\n      <td>1.422357</td>\n      <td>0.707030</td>\n      <td>2.835100</td>\n      <td>2.129388</td>\n      <td>3.201840</td>\n      <td>-2.129388</td>\n      <td>2.485196</td>\n      <td>...</td>\n      <td>-1.281453</td>\n      <td>-0.303049</td>\n      <td>0.722263</td>\n      <td>0.000771</td>\n      <td>1.447312</td>\n      <td>0.858831</td>\n      <td>-0.360653</td>\n      <td>-2.008955</td>\n      <td>2.905988</td>\n      <td>1.072453</td>\n    </tr>\n    <tr>\n      <th>...</th>\n      <td>...</td>\n      <td>...</td>\n      <td>...</td>\n      <td>...</td>\n      <td>...</td>\n      <td>...</td>\n      <td>...</td>\n      <td>...</td>\n      <td>...</td>\n      <td>...</td>\n      <td>...</td>\n      <td>...</td>\n      <td>...</td>\n      <td>...</td>\n      <td>...</td>\n      <td>...</td>\n      <td>...</td>\n      <td>...</td>\n      <td>...</td>\n      <td>...</td>\n      <td>...</td>\n    </tr>\n    <tr>\n      <th>75</th>\n      <td>-1.461001</td>\n      <td>-0.674892</td>\n      <td>-1.045589</td>\n      <td>-0.319058</td>\n      <td>-1.241996</td>\n      <td>-2.235946</td>\n      <td>-1.561054</td>\n      <td>-1.780060</td>\n      <td>1.561054</td>\n      <td>-2.135894</td>\n      <td>...</td>\n      <td>1.916481</td>\n      <td>-0.598772</td>\n      <td>0.939364</td>\n      <td>0.400182</td>\n      <td>-1.073623</td>\n      <td>-1.063085</td>\n      <td>0.540485</td>\n      <td>1.617675</td>\n      <td>-1.832507</td>\n      <td>-0.219006</td>\n    </tr>\n    <tr>\n      <th>76</th>\n      <td>1.135062</td>\n      <td>-0.791623</td>\n      <td>-0.288404</td>\n      <td>0.240003</td>\n      <td>-0.781912</td>\n      <td>-1.333532</td>\n      <td>-0.541909</td>\n      <td>1.375065</td>\n      <td>0.541909</td>\n      <td>0.343439</td>\n      <td>...</td>\n      <td>-0.508395</td>\n      <td>-0.192028</td>\n      <td>-0.873729</td>\n      <td>-0.002217</td>\n      <td>0.793864</td>\n      <td>-0.719635</td>\n      <td>0.265025</td>\n      <td>-0.014496</td>\n      <td>1.788338</td>\n      <td>1.916974</td>\n    </tr>\n    <tr>\n      <th>77</th>\n      <td>-0.728124</td>\n      <td>-1.239145</td>\n      <td>-1.377173</td>\n      <td>-0.699913</td>\n      <td>-0.816707</td>\n      <td>-2.755765</td>\n      <td>-1.516620</td>\n      <td>-1.428036</td>\n      <td>1.516620</td>\n      <td>-1.967268</td>\n      <td>...</td>\n      <td>2.263603</td>\n      <td>-1.039762</td>\n      <td>0.739183</td>\n      <td>-0.720897</td>\n      <td>-0.723208</td>\n      <td>-0.304419</td>\n      <td>0.156474</td>\n      <td>1.824659</td>\n      <td>-1.127888</td>\n      <td>0.088584</td>\n    </tr>\n    <tr>\n      <th>78</th>\n      <td>-0.160961</td>\n      <td>-0.390247</td>\n      <td>0.018500</td>\n      <td>-0.778688</td>\n      <td>0.238694</td>\n      <td>-0.930241</td>\n      <td>-0.539994</td>\n      <td>-0.939648</td>\n      <td>0.539994</td>\n      <td>-0.551207</td>\n      <td>...</td>\n      <td>0.313253</td>\n      <td>0.013557</td>\n      <td>0.049561</td>\n      <td>0.004541</td>\n      <td>-0.112832</td>\n      <td>0.237428</td>\n      <td>-0.003033</td>\n      <td>0.783104</td>\n      <td>-0.313125</td>\n      <td>-0.399654</td>\n    </tr>\n    <tr>\n      <th>79</th>\n      <td>0.589694</td>\n      <td>1.353394</td>\n      <td>-0.631240</td>\n      <td>0.931619</td>\n      <td>-1.065330</td>\n      <td>1.219683</td>\n      <td>-0.133711</td>\n      <td>1.521313</td>\n      <td>0.133711</td>\n      <td>1.943089</td>\n      <td>...</td>\n      <td>1.241981</td>\n      <td>-0.416629</td>\n      <td>0.583946</td>\n      <td>-2.066354</td>\n      <td>0.264042</td>\n      <td>-0.809212</td>\n      <td>0.147671</td>\n      <td>-0.259140</td>\n      <td>0.807171</td>\n      <td>1.655024</td>\n    </tr>\n  </tbody>\n</table>\n<p>80 rows × 152 columns</p>\n</div>"
     },
     "execution_count": 16,
     "metadata": {},
     "output_type": "execute_result"
    }
   ],
   "source": [
    "from evolutionary_forest.utils import feature_append\n",
    "\n",
    "# Synthesize new features\n",
    "code_importance_dict = get_feature_importance(r, simple_version=False)\n",
    "top_features = list(code_importance_dict.keys())[:len(code_importance_dict) // 2]\n",
    "new_train = feature_append(r, pd.DataFrame(r.x_scaler.transform(x_train),columns=x_train.columns), top_features, only_new_features=False)\n",
    "new_test = feature_append(r, pd.DataFrame(r.x_scaler.transform(x_train),columns=x_train.columns), top_features, only_new_features=False)\n",
    "new_train"
   ],
   "metadata": {
    "collapsed": false,
    "ExecuteTime": {
     "start_time": "2023-04-17T10:11:59.837752Z",
     "end_time": "2023-04-17T10:11:59.893862Z"
    }
   }
  },
  {
   "cell_type": "markdown",
   "source": [
    "### Conclusion\n",
    "In this notebook, we demonstrated how the Evolutionary Forest Regressor can be used with Pandas DataFrames, making it a powerful tool for working with complex data structures. By showcasing its ability to generate insights, such as feature importance, and synthesize new features, we hope to inspire you to try out this versatile algorithm in your own data science projects.\n"
   ],
   "metadata": {
    "collapsed": false
   }
  }
 ],
 "metadata": {
  "kernelspec": {
   "display_name": "Python 3",
   "language": "python",
   "name": "python3"
  },
  "language_info": {
   "codemirror_mode": {
    "name": "ipython",
    "version": 2
   },
   "file_extension": ".py",
   "mimetype": "text/x-python",
   "name": "python",
   "nbconvert_exporter": "python",
   "pygments_lexer": "ipython2",
   "version": "2.7.6"
  }
 },
 "nbformat": 4,
 "nbformat_minor": 0
}
