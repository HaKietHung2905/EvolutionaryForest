{
 "cells": [
  {
   "cell_type": "markdown",
   "source": [
    "In the machine learning domain, feature construction is always regarded as a critical component of a machine learning pipeline. Just as the deep neural network improves the performance of the traditional neural network through constructed features, if we can construct some powerful features, we may be able to significantly improve the learning capability of existing simple machine learning algorithms. In fact, in most ML competitions, feature engineering is always regarded as a critical point in winning the competition. Such features, however, necessitate a significant amount of effort on the part of domain experts. As a result, automated feature construction has become a hot topic in recent years. In general, we can generate several features using different methods, such as evolutionary algorithms or random search, and then select a few of them to use on the new machine learning system. In such a process, it is obvious that determining whether a feature is good or bad is a critical issue. As a result of this problem, most feature construction methods can be classified into three types: wrapper-based feature construction, filter-based feature construction, and embedded feature construction.\n",
    "The difference between these three methods is depicted in the figure below. The first is the wrapper-based feature construction method. It is obvious that this method is based on a specific machine learning algorithm. To be more specific, for a set of features, we must build a machine learning model based on those features and then use the validation score as the score of those features. The second method, the filter-based construction method, does not rely on any machine learning algorithm. In contrast, it estimates the efficacy of each feature using a statistical measure, such as the Pearson correlation between that feature and the response variable. Finally, the third method, embedded feature construction, is only applicable to some machine learning algorithms, such as decision tree based methods, which can provide feature importance. As a result, we can use the feature's important value to select critical features.\n",
    "\n",
    "These three methods each have their own set of benefits and drawbacks. The wrapper-based feature construction method, for example, is the most reliable method because it directly optimizes the validation score on a specific algorithm. The disadvantage is that it is extremely slow, especially when we need to construct some features for some expensive machine learning algorithms, such as neural networks or gradient boosted decision trees. In contrast, the filter-based construction method is quick because we don't need to train any machine learning algorithms during the scoring process. However, because it does not rely on any machine learning algorithms, the obtained result may not be applicable to the target algorithm. In terms of the last one, the embedded features construction method can, in fact, collaborate with the wrapper-based feature construction method. As a result, we will concentrate on comparing the first two methods in this article."
   ],
   "metadata": {
    "collapsed": false,
    "pycharm": {
     "name": "#%% md\n"
    }
   }
  },
  {
   "cell_type": "code",
   "execution_count": 1,
   "outputs": [],
   "source": [
    "import random\n",
    "\n",
    "import numpy as np\n",
    "import pandas as pd\n",
    "from sklearn.datasets import load_diabetes\n",
    "from sklearn.model_selection import train_test_split\n",
    "\n",
    "random.seed(0)\n",
    "np.random.seed(0)\n",
    "\n",
    "X, y = load_diabetes(return_X_y=True)\n",
    "x_train, x_test, y_train, y_test = train_test_split(X, y, test_size=0.2, random_state=0)"
   ],
   "metadata": {
    "collapsed": false,
    "pycharm": {
     "name": "#%%\n"
    }
   }
  },
  {
   "cell_type": "markdown",
   "source": [
    "In this article, I want to clear up a common misconception: unlike most people, I do not believe that the wrapper-based feature construction method is significantly slower than the filter-based feature construction method. In reality, the difference is not that great, and it should be within an order of magnitude. To demonstrate such an assumption, we run a scenario that evaluates a set of five features using Spearman correlation and a decision tree. As shown below, I repeated the experiment 1000 times to ensure the reliability of the experimental results. We can see that the Spearman correlation method must take two seconds to complete this process."
   ],
   "metadata": {
    "collapsed": false,
    "pycharm": {
     "name": "#%% md\n"
    }
   }
  },
  {
   "cell_type": "code",
   "execution_count": 2,
   "outputs": [
    {
     "name": "stdout",
     "output_type": "stream",
     "text": [
      "time 2.367258071899414\n"
     ]
    }
   ],
   "source": [
    "from scipy.stats import spearmanr\n",
    "import time\n",
    "\n",
    "st = time.time()\n",
    "for i in range(1000):\n",
    "    for j in range(5):\n",
    "        pseudo_feature = np.random.rand(len(y_train))\n",
    "        spearmanr(pseudo_feature, y_train)\n",
    "print('time', time.time() - st)"
   ],
   "metadata": {
    "collapsed": false,
    "pycharm": {
     "name": "#%%\n"
    }
   }
  },
  {
   "cell_type": "markdown",
   "source": [
    "In comparison, if we build a decision tree based on the construction features and use the cross validation loss as the score of those features, the surprising thing is that we don't have to spend a lot of time on it. In reality, we only need to spend three more times to complete this task. The decision tree algorithm is, in fact, a lightning-fast algorithm. In theory, the decision tree's depth should be O(logN), where N represents the amount of data. Given such a fast algorithm, it's debatable whether we really need a less expensive but unreliable feature score estimation method."
   ],
   "metadata": {
    "collapsed": false,
    "pycharm": {
     "name": "#%% md\n"
    }
   }
  },
  {
   "cell_type": "code",
   "execution_count": 3,
   "outputs": [
    {
     "name": "stdout",
     "output_type": "stream",
     "text": [
      "time 8.91895341873169\n"
     ]
    }
   ],
   "source": [
    "from sklearn.model_selection import cross_val_score\n",
    "from sklearn.tree import DecisionTreeRegressor\n",
    "\n",
    "st = time.time()\n",
    "for i in range(1000):\n",
    "    pseudo_feature = np.random.rand(len(y_train), 5)\n",
    "    tree = DecisionTreeRegressor()\n",
    "    cross_val_score(tree, pseudo_feature, y_train, cv=5)\n",
    "print('time', time.time() - st)"
   ],
   "metadata": {
    "collapsed": false,
    "pycharm": {
     "name": "#%%\n"
    }
   }
  },
  {
   "cell_type": "markdown",
   "source": [
    "To investigate the problem further, namely whether it is worthwhile to use three more times to find the useful features, we chose two frameworks in the genetic programming-based feature construction domain to validate the effectiveness of these two paradigms. The evolutionary forest is the first. It is a new framework based on a wrapper-based feature construction paradigm. This algorithm, like the illustrative example, evaluates features using a decision tree. As a result, the obtained features can be applied directly to tree-based algorithms. We found that it will take 27 seconds to obtain the results based on the experimental results."
   ],
   "metadata": {
    "collapsed": false,
    "pycharm": {
     "name": "#%% md\n"
    }
   }
  },
  {
   "cell_type": "code",
   "execution_count": 4,
   "outputs": [
    {
     "name": "stdout",
     "output_type": "stream",
     "text": [
      "   \t      \t                            fitness                             \t                      size                     \n",
      "   \t      \t----------------------------------------------------------------\t-----------------------------------------------\n",
      "gen\tnevals\tavg     \tgen\tmax   \tmin       \tnevals\tstd     \tavg  \tgen\tmax\tmin\tnevals\tstd    \n",
      "0  \t50    \t0.128181\t0  \t0.4978\t-0.0842633\t50    \t0.118436\t41.12\t0  \t50 \t30 \t50    \t4.45708\n",
      "1  \t50    \t0.0910234\t1  \t0.403259\t-0.115775 \t50    \t0.127476\t42.52\t1  \t52 \t32 \t50    \t4.72965\n",
      "2  \t50    \t0.0244226\t2  \t0.236102\t-0.148101 \t50    \t0.0994212\t42.76\t2  \t50 \t36 \t50    \t3.79241\n",
      "3  \t50    \t0.00982089\t3  \t0.200245\t-0.164397 \t50    \t0.079752 \t44.44\t3  \t56 \t32 \t50    \t4.53061\n",
      "4  \t50    \t0.00366143\t4  \t0.189779\t-0.189412 \t50    \t0.0649951\t45.04\t4  \t62 \t32 \t50    \t6.04305\n",
      "5  \t50    \t-0.0161504\t5  \t0.115491\t-0.161845 \t50    \t0.0659887\t46.28\t5  \t58 \t32 \t50    \t5.18475\n",
      "6  \t50    \t-0.00955606\t6  \t0.127782\t-0.177148 \t50    \t0.0586449\t47.84\t6  \t60 \t36 \t50    \t5.45293\n",
      "7  \t50    \t-0.0104413 \t7  \t0.132667\t-0.143972 \t50    \t0.0653073\t47.6 \t7  \t60 \t36 \t50    \t5.94643\n",
      "8  \t50    \t-0.017347  \t8  \t0.184854\t-0.141241 \t50    \t0.0723507\t48.6 \t8  \t68 \t34 \t50    \t6.90797\n",
      "9  \t50    \t-0.0306229 \t9  \t0.115619\t-0.158084 \t50    \t0.0718552\t48.76\t9  \t58 \t34 \t50    \t5.52652\n",
      "10 \t50    \t-0.0367477 \t10 \t0.190344\t-0.200396 \t50    \t0.0811849\t48.64\t10 \t64 \t40 \t50    \t5.52   \n",
      "11 \t50    \t-0.0424421 \t11 \t0.141635\t-0.160827 \t50    \t0.0704306\t48.56\t11 \t60 \t40 \t50    \t5.48511\n",
      "12 \t50    \t-0.0509687 \t12 \t0.0504838\t-0.205272 \t50    \t0.0611853\t48.2 \t12 \t60 \t40 \t50    \t5.57494\n",
      "13 \t50    \t-0.0527509 \t13 \t0.0879283\t-0.169502 \t50    \t0.0568326\t47.8 \t13 \t58 \t36 \t50    \t6.21289\n",
      "14 \t50    \t-0.0663524 \t14 \t0.0453482\t-0.208417 \t50    \t0.0569636\t49.52\t14 \t62 \t38 \t50    \t5.81804\n",
      "15 \t50    \t-0.0714682 \t15 \t0.0888302\t-0.24217  \t50    \t0.0710271\t48.88\t15 \t62 \t36 \t50    \t6.147  \n",
      "16 \t50    \t-0.0800904 \t16 \t0.090252 \t-0.20197  \t50    \t0.0704226\t49.16\t16 \t64 \t38 \t50    \t7.344  \n",
      "17 \t50    \t-0.0963393 \t17 \t0.0573452\t-0.279082 \t50    \t0.0746068\t47.56\t17 \t60 \t38 \t50    \t5.75903\n",
      "18 \t50    \t-0.0795693 \t18 \t0.113949 \t-0.253166 \t50    \t0.0779716\t47.64\t18 \t62 \t36 \t50    \t6.28255\n",
      "19 \t50    \t-0.0730306 \t19 \t0.243039 \t-0.238186 \t50    \t0.076795 \t49.28\t19 \t60 \t38 \t50    \t5.42232\n",
      "20 \t50    \t-0.086656  \t20 \t0.0811061\t-0.299169 \t50    \t0.0784456\t50.48\t20 \t64 \t40 \t50    \t5.83178\n",
      "time 27.127797842025757\n"
     ]
    }
   ],
   "source": [
    "from evolutionary_forest.forest import EvolutionaryForestRegressor\n",
    "\n",
    "st = time.time()\n",
    "r = EvolutionaryForestRegressor(max_height=8, normalize=True, select='AutomaticLexicase',\n",
    "                                mutation_scheme='weight-plus-cross-global',\n",
    "                                gene_num=10, boost_size=100, n_gen=20, base_learner='DT',\n",
    "                                verbose=True)\n",
    "r.fit(x_train, y_train)\n",
    "print('time', time.time() - st)"
   ],
   "metadata": {
    "collapsed": false,
    "pycharm": {
     "name": "#%%\n"
    }
   }
  },
  {
   "cell_type": "markdown",
   "source": [
    "The second is gplearn, which is a well-known genetic programming package. Unlike the previous package, this one employs the Spearman correlation coefficient to determine whether or not a feature is promising. As a result, this package has the advantage of being faster than the wrapper-based feature construction method. However, it is difficult to say whether the built feature is applicable to the target machine learning algorithm. Based on the experimental results, we found that it will take 8 seconds to obtain the results, demonstrating that this paradigm is significantly faster than the wrapper-based one."
   ],
   "metadata": {
    "collapsed": false,
    "pycharm": {
     "name": "#%% md\n"
    }
   }
  },
  {
   "cell_type": "code",
   "execution_count": 5,
   "outputs": [
    {
     "name": "stdout",
     "output_type": "stream",
     "text": [
      "    |   Population Average    |             Best Individual              |\n",
      "---- ------------------------- ------------------------------------------ ----------\n",
      " Gen   Length          Fitness   Length          Fitness      OOB Fitness  Time Left\n",
      "   0    26.61         0.154598        3         0.620562              N/A      9.32s\n",
      "   1     5.98         0.440482        7         0.691207              N/A      7.27s\n",
      "   2     5.05         0.588152        9         0.697384              N/A      6.85s\n",
      "   3     5.31          0.62857       11         0.701074              N/A      6.44s\n",
      "   4     7.58         0.659784       13          0.70841              N/A      6.20s\n",
      "   5     9.98         0.674985       13          0.70841              N/A      5.90s\n",
      "   6    10.14         0.673633       13          0.70841              N/A      5.44s\n",
      "   7    12.19         0.681449       13          0.70841              N/A      4.92s\n",
      "   8    11.83         0.684906       13          0.70841              N/A      4.59s\n",
      "   9    11.20         0.687017       13          0.70841              N/A      3.98s\n",
      "  10    10.70         0.681745       13          0.70841              N/A      3.51s\n",
      "  11    11.02         0.674927       11         0.708105              N/A      3.14s\n",
      "  12    11.06         0.685655       11         0.708105              N/A      2.83s\n",
      "  13    10.78         0.686212       11         0.708105              N/A      2.35s\n",
      "  14    11.38         0.686585       11         0.708105              N/A      2.00s\n",
      "  15    11.14         0.688204       11         0.708105              N/A      1.62s\n",
      "  16    11.40         0.688232       11         0.708105              N/A      1.19s\n",
      "  17    10.77         0.679824       11         0.708105              N/A      0.80s\n",
      "  18    11.06         0.681635       11         0.708105              N/A      0.40s\n",
      "  19    10.77         0.681433       11         0.708105              N/A      0.00s\n",
      "time 8.460400581359863\n"
     ]
    }
   ],
   "source": [
    "from gplearn.genetic import SymbolicTransformer\n",
    "\n",
    "st = time.time()\n",
    "s = SymbolicTransformer(population_size=500, generations=20, hall_of_fame=500, n_components=50, metric='spearman',\n",
    "                        verbose=1)\n",
    "s.fit(x_train, y_train)\n",
    "print('time', time.time() - st)"
   ],
   "metadata": {
    "collapsed": false,
    "pycharm": {
     "name": "#%%\n"
    }
   }
  },
  {
   "cell_type": "markdown",
   "source": [
    "However, we should not focus solely on training time. In fact, whether its discovered features are useful or not is a more pressing concern. As a result, we build three decision models based on original features and those created by the evolutionary forest and gplearn, respectively.\n",
    "According to the experimental results, the feature obtained by the wrapper-based method can significantly improve the performance of the random forest model. However, the features obtained by the filter-based method do not appear to be as significant."
   ],
   "metadata": {
    "collapsed": false,
    "pycharm": {
     "name": "#%% md\n"
    }
   }
  },
  {
   "cell_type": "code",
   "execution_count": 6,
   "outputs": [],
   "source": [
    "from lightgbm import LGBMRegressor\n",
    "from sklearn.ensemble import RandomForestRegressor, AdaBoostRegressor, GradientBoostingRegressor, ExtraTreesRegressor\n",
    "from sklearn.metrics import r2_score\n",
    "from evolutionary_forest.utils import get_feature_importance, feature_append\n",
    "\n",
    "\n",
    "def score_func(score_name, model_name, x_train, x_test):\n",
    "    scores = []\n",
    "    for i in range(10):\n",
    "        new_r = {\n",
    "            'RF': RandomForestRegressor(),\n",
    "            'AdaBoost': AdaBoostRegressor(),\n",
    "            'GBDT': GradientBoostingRegressor(subsample=0.8, n_estimators=100),\n",
    "            'DART': LGBMRegressor(boosting_type='DART', random_state=random.randint(0, 1000), n_estimators=100),\n",
    "        }[model_name]\n",
    "        new_r.fit(x_train, y_train)\n",
    "        score = r2_score(y_test, new_r.predict(x_test))\n",
    "        all_score.append((score_name, model_name, score))\n",
    "        scores.append(score)\n",
    "    return scores"
   ],
   "metadata": {
    "collapsed": false,
    "pycharm": {
     "name": "#%%\n"
    }
   }
  },
  {
   "cell_type": "code",
   "execution_count": 7,
   "outputs": [
    {
     "name": "stdout",
     "output_type": "stream",
     "text": [
      "r2_score [0.29932596442343373, 0.3185379047503454, 0.31928521660797804, 0.28510604262461936, 0.30823082281611425, 0.2973873187190704, 0.2900353006144274, 0.3298022734402294, 0.3105191899687606, 0.302673156832473] 0.30609031907974515\n"
     ]
    }
   ],
   "source": [
    "code_importance_dict = get_feature_importance(r, simple_version=False)\n",
    "new_train_wrapper = feature_append(r, x_train, list(code_importance_dict.keys())[:50], only_new_features=True)\n",
    "new_test_wrapper = feature_append(r, x_test, list(code_importance_dict.keys())[:50], only_new_features=True)\n",
    "all_score = []\n",
    "\n",
    "wrapper_score = score_func('Wrapper', 'RF', new_train_wrapper, new_test_wrapper)\n",
    "print('r2_score', wrapper_score, np.mean(wrapper_score))"
   ],
   "metadata": {
    "collapsed": false,
    "pycharm": {
     "name": "#%%\n"
    }
   }
  },
  {
   "cell_type": "code",
   "execution_count": 8,
   "outputs": [
    {
     "name": "stdout",
     "output_type": "stream",
     "text": [
      "r2_score [0.27107906889036026, 0.24016147285300649, 0.239872953173089, 0.2373569574066473, 0.2573413030699703, 0.2692056167551039, 0.2610504809013473, 0.2636619161580086, 0.23883103423800744, 0.2862595610723343] 0.25648203645178747\n"
     ]
    }
   ],
   "source": [
    "base_score = score_func('Base', 'RF', x_train, x_test)\n",
    "print('r2_score', base_score, np.mean(base_score))"
   ],
   "metadata": {
    "collapsed": false,
    "pycharm": {
     "name": "#%%\n"
    }
   }
  },
  {
   "cell_type": "code",
   "execution_count": 9,
   "outputs": [
    {
     "name": "stdout",
     "output_type": "stream",
     "text": [
      "r2_score [0.26093272891462016, 0.26959496895365676, 0.25423757785836, 0.2642575465990584, 0.24592499901152964, 0.2653556579409633, 0.26977605774587854, 0.27886176741228286, 0.29952146559273407, 0.265195726262368] 0.26736584962914517\n"
     ]
    }
   ],
   "source": [
    "new_train = s.transform(x_train)\n",
    "new_test = s.transform(x_test)\n",
    "filter_score = score_func('Filter', 'RF', new_train, new_test)\n",
    "print('r2_score', filter_score, np.mean(filter_score))"
   ],
   "metadata": {
    "collapsed": false,
    "pycharm": {
     "name": "#%%\n"
    }
   }
  },
  {
   "cell_type": "markdown",
   "source": [
    "To further solidify our conclusion, we must conduct a statistical test on the results. In this article, we will use the rank sum test to validate our assumption."
   ],
   "metadata": {
    "collapsed": false,
    "pycharm": {
     "name": "#%% md\n"
    }
   }
  },
  {
   "cell_type": "code",
   "execution_count": 10,
   "outputs": [
    {
     "name": "stdout",
     "output_type": "stream",
     "text": [
      "base_score vs wrapper_score 0.00021218287122257823\n",
      "base_score vs filter_score 0.15092695006671628\n",
      "wrapper_score vs filter_score 0.00050654148469229\n"
     ]
    }
   ],
   "source": [
    "from scipy import stats\n",
    "\n",
    "print('base_score vs wrapper_score', stats.ranksums(base_score, wrapper_score).pvalue)\n",
    "print('base_score vs filter_score', stats.ranksums(base_score, filter_score).pvalue)\n",
    "print('wrapper_score vs filter_score', stats.ranksums(wrapper_score, filter_score).pvalue)"
   ],
   "metadata": {
    "collapsed": false,
    "pycharm": {
     "name": "#%%\n"
    }
   }
  },
  {
   "cell_type": "markdown",
   "source": [
    "Based on the statistical test, we can see that the best method, wrapper-based feature construction, outperforms its counterpart on this task significantly. Even though it costs twice as much, it is worthwhile to spend the extra time on this task."
   ],
   "metadata": {
    "collapsed": false,
    "pycharm": {
     "name": "#%% md\n"
    }
   }
  },
  {
   "cell_type": "markdown",
   "source": [
    "In addition, we run these generated features through a variety of machine learning algorithms, including AdaBoost, GBDT, and DART. Based on the final results, we conclude that the features generated by the wrapped-based method are more useful, which can effectively improve the model prediction performance. In contrast, while the filter-based method can improve model performance, the effect is minor."
   ],
   "metadata": {
    "collapsed": false,
    "pycharm": {
     "name": "#%% md\n"
    }
   }
  },
  {
   "cell_type": "code",
   "execution_count": 11,
   "outputs": [
    {
     "name": "stdout",
     "output_type": "stream",
     "text": [
      "[0.29246842731803513, 0.2596941528500112, 0.30056923794137835, 0.3046065812599831, 0.2804552037893445, 0.28242123968868393, 0.3127135626130335, 0.3038655692047767, 0.3182175306592857, 0.2629017225021637] [0.2342763790188982, 0.29727573637790683, 0.2703196991719534, 0.3023814769075942, 0.2462527351678223, 0.2794650265479025, 0.29150357785868575, 0.2954393628460976, 0.27645059592809484, 0.3021370085545707] [0.30222275579574187, 0.3420089261386916, 0.3081041910284036, 0.2614570708326469, 0.26996324628650414, 0.2891982595249478, 0.28087822207333724, 0.27436590248750403, 0.25782223623953127, 0.2940208932391519]\n",
      "[0.24825622976854334, 0.24949893697007497, 0.2558681461301455, 0.22288419628800316, 0.2235334874277436, 0.22964214875094524, 0.2727157882279402, 0.20444375274967896, 0.22581809082493298, 0.24649925572811848] [0.24578141930134556, 0.21729661862502736, 0.1757981492804933, 0.23084254147932115, 0.251905673904969, 0.1951790919597316, 0.23008192462615362, 0.2261804149848966, 0.17911778963164415, 0.25255902186774337] [0.18990262021860782, 0.21599800309099204, 0.18330860099315727, 0.1790719680233771, 0.2205867718196023, 0.13950826713336384, 0.18550144723892636, 0.21942184206947868, 0.17714324601404696, 0.21464868200196463]\n",
      "[0.22755311694939184, 0.28743236836183794, 0.2385450393499975, 0.2742018441699837, 0.2809581947124995, 0.21738822338207475, 0.27404566587736223, 0.2611315388914286, 0.2517505584596367, 0.2417343697804818] [0.2777684512930714, 0.2526077357691553, 0.13316297769766505, 0.258723606803974, 0.14766829550356197, 0.2613570237436226, 0.25305145429785314, 0.2613570237436226, 0.21669895274790374, 0.22039474409741922] [0.20417283041157674, 0.20074502710838737, 0.16520973909821968, 0.08837178142074598, 0.231738959476125, 0.22072330797275397, 0.16613177342106789, 0.20464331673194103, 0.18402972009996266, 0.23654534524804238]\n"
     ]
    },
    {
     "data": {
      "text/plain": "<AxesSubplot:xlabel='Name', ylabel='Score'>"
     },
     "execution_count": 11,
     "metadata": {},
     "output_type": "execute_result"
    },
    {
     "data": {
      "text/plain": "<Figure size 432x288 with 1 Axes>",
      "image/png": "[encoded data removed]"
     },
     "metadata": {
      "needs_background": "light"
     },
     "output_type": "display_data"
    }
   ],
   "source": [
    "import seaborn as sns\n",
    "\n",
    "for model in ['AdaBoost', 'GBDT', 'DART']:\n",
    "    wrapper_score = score_func('Wrapper', model, new_train_wrapper, new_test_wrapper)\n",
    "    base_score = score_func('Base', model, x_train, x_test)\n",
    "    filter_score = score_func('Filter', model, new_train, new_test)\n",
    "    print(wrapper_score, base_score, filter_score)\n",
    "data = pd.DataFrame(all_score, columns=[\n",
    "    'Name',\n",
    "    'Model',\n",
    "    'Score',\n",
    "])\n",
    "sns.boxplot(x='Name', y='Score', hue='Model', data=data)"
   ],
   "metadata": {
    "collapsed": false,
    "pycharm": {
     "name": "#%%\n"
    }
   }
  },
  {
   "cell_type": "markdown",
   "source": [
    "Finally, in this article, we look at two popular paradigms in feature construction: the wrapper-based feature construction method and the filter-based feature construction method. The former is more accurate, while the latter is faster. In fact, the purpose of this article is not to argue that we should abandon the filter-based feature construction method; each method has its own set of application scenarios. It is obvious that the filter-based method is better suited to an environment with limited computational resources because it takes less time. The main point of this article is that many people believe that the wrapper-based method is slow. However, we show in this article that such a method is perfectly acceptable in most cases. In the future, we should not consider the feature construction method to be an A or B problem, in my opinion. Perhaps weighing the benefits of both and identifying the most applicable scenarios is the best solution for the development of machine learning techniques."
   ],
   "metadata": {
    "collapsed": false,
    "pycharm": {
     "name": "#%% md\n"
    }
   }
  }
 ],
 "metadata": {
  "kernelspec": {
   "display_name": "Python 3",
   "language": "python",
   "name": "python3"
  },
  "language_info": {
   "codemirror_mode": {
    "name": "ipython",
    "version": 2
   },
   "file_extension": ".py",
   "mimetype": "text/x-python",
   "name": "python",
   "nbconvert_exporter": "python",
   "pygments_lexer": "ipython2",
   "version": "2.7.6"
  }
 },
 "nbformat": 4,
 "nbformat_minor": 0
}